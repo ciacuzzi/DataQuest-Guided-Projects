{
 "cells": [
  {
   "cell_type": "markdown",
   "metadata": {},
   "source": [
    "# Mobile App Analysis\n",
    "\n",
    "This analysis is being completed for a company that produces free apps on both Android and iOS mobile platforms. The company's primary revenue stream is in-app ads. As such, the company would like to maximize its revenue by producing free apps that engage a the largest number of users possible. \n",
    "\n",
    "To determine what types of apps attract the most users, Google Play & Apple Store app data will be used to to evaluate the type of apps that users engage with most frequently. The goal of this analysis is to make recommendations for mobile apps that are likely to generate the highest revenue."
   ]
  },
  {
   "cell_type": "markdown",
   "metadata": {},
   "source": [
    "### 1. Importing & Exploring the Data\n",
    "\n",
    "As of 2018, the Google Play Store had 2.1 million Android apps and the App Store had 2 million iOS apps available. In order to conduct this analysis, a sample of the total apps on each platform will be used. The sample contains data from approximately 10,000 Android apps and 7,000 iOS apps."
   ]
  },
  {
   "cell_type": "code",
   "execution_count": 1,
   "metadata": {
    "collapsed": false
   },
   "outputs": [],
   "source": [
    "#Open both data sets & save both as lists of lists\n",
    "\n",
    "from csv import reader\n",
    "\n",
    "opened_file_ios = open('AppleStore.csv')\n",
    "read_file_ios = reader(opened_file_ios)\n",
    "ios_data = list(read_file_ios)\n",
    "ios_header = ios_data[0]\n",
    "ios_data = ios_data[1:]\n",
    "\n",
    "opened_file_android = open('googleplaystore.csv')\n",
    "read_file_android = reader(opened_file_android)\n",
    "android_data = list(read_file_android)\n",
    "android_header = android_data[0]\n",
    "android_data = android_data[1:]"
   ]
  },
  {
   "cell_type": "markdown",
   "metadata": {},
   "source": [
    "The code below creates an **explore_data()** function to print rows from the datasets for the purpose of exploring the data."
   ]
  },
  {
   "cell_type": "code",
   "execution_count": 4,
   "metadata": {
    "collapsed": false
   },
   "outputs": [
    {
     "name": "stdout",
     "output_type": "stream",
     "text": [
      "['Photo Editor & Candy Camera & Grid & ScrapBook', 'ART_AND_DESIGN', '4.1', '159', '19M', '10,000+', 'Free', '0', 'Everyone', 'Art & Design', 'January 7, 2018', '1.0.0', '4.0.3 and up']\n",
      "\n",
      "\n",
      "['Coloring book moana', 'ART_AND_DESIGN', '3.9', '967', '14M', '500,000+', 'Free', '0', 'Everyone', 'Art & Design;Pretend Play', 'January 15, 2018', '2.0.0', '4.0.3 and up']\n",
      "\n",
      "\n",
      "['U Launcher Lite – FREE Live Cool Themes, Hide Apps', 'ART_AND_DESIGN', '4.7', '87510', '8.7M', '5,000,000+', 'Free', '0', 'Everyone', 'Art & Design', 'August 1, 2018', '1.2.4', '4.0.3 and up']\n",
      "\n",
      "\n",
      "Number of rows: 10841\n",
      "Number of columns: 13\n",
      "\n",
      "\n",
      "['284882215', 'Facebook', '389879808', 'USD', '0.0', '2974676', '212', '3.5', '3.5', '95.0', '4+', 'Social Networking', '37', '1', '29', '1']\n",
      "\n",
      "\n",
      "['389801252', 'Instagram', '113954816', 'USD', '0.0', '2161558', '1289', '4.5', '4.0', '10.23', '12+', 'Photo & Video', '37', '0', '29', '1']\n",
      "\n",
      "\n",
      "['529479190', 'Clash of Clans', '116476928', 'USD', '0.0', '2130805', '579', '4.5', '4.5', '9.24.12', '9+', 'Games', '38', '5', '18', '1']\n",
      "\n",
      "\n",
      "Number of rows: 7197\n",
      "Number of columns: 16\n"
     ]
    }
   ],
   "source": [
    "def explore_data(dataset, start, end, rows_and_columns=False):\n",
    "    dataset_slice = dataset[start:end]    \n",
    "    for row in dataset_slice:\n",
    "        print(row)\n",
    "        print('\\n')\n",
    "\n",
    "    if rows_and_columns:\n",
    "        print('Number of rows:', len(dataset))\n",
    "        print('Number of columns:', len(dataset[0]))\n",
    "     \n",
    "#Print the first 3 rows of the Android app dataset\n",
    "explore_data(android_data, 0, 3, True)\n",
    "\n",
    "print('\\n')\n",
    "\n",
    "#Print the first 3 rows of the iOS app dataset\n",
    "explore_data(ios_data, 0, 3, True)"
   ]
  },
  {
   "cell_type": "code",
   "execution_count": 5,
   "metadata": {
    "collapsed": false
   },
   "outputs": [
    {
     "name": "stdout",
     "output_type": "stream",
     "text": [
      "['App', 'Category', 'Rating', 'Reviews', 'Size', 'Installs', 'Type', 'Price', 'Content Rating', 'Genres', 'Last Updated', 'Current Ver', 'Android Ver']\n",
      "\n",
      "\n",
      "['id', 'track_name', 'size_bytes', 'currency', 'price', 'rating_count_tot', 'rating_count_ver', 'user_rating', 'user_rating_ver', 'ver', 'cont_rating', 'prime_genre', 'sup_devices.num', 'ipadSc_urls.num', 'lang.num', 'vpp_lic']\n"
     ]
    }
   ],
   "source": [
    "#Print the column names of both datasets\n",
    "print(android_header)\n",
    "print('\\n')\n",
    "print(ios_header)"
   ]
  },
  {
   "cell_type": "markdown",
   "metadata": {},
   "source": [
    "The categories most likely to help us conduct this analysis include:\n",
    "\n",
    "| Android Apps | iOS Apps | Content of Category |\n",
    "| ------------ | -------- | ------------------- |\n",
    "| App | track_name | Name of the App |\n",
    "| Category | prime_genre | Type of App |\n",
    "| Price | price | Price of App |\n",
    "| Rating | user_rating | Average Rating |\n",
    "| Reviews | rating_count_tot | Total number of Reviews |\n",
    "| Content Rating | cont_rating | Audience/Content Rating |"
   ]
  },
  {
   "cell_type": "markdown",
   "metadata": {},
   "source": [
    "### 2. Data Cleaning\n",
    "\n",
    "In this next section, the data will be cleaned to remove errors, duplicates and make corrections to allow for analysis."
   ]
  },
  {
   "cell_type": "code",
   "execution_count": 6,
   "metadata": {
    "collapsed": false
   },
   "outputs": [
    {
     "name": "stdout",
     "output_type": "stream",
     "text": [
      "[['Life Made WI-Fi Touchscreen Photo Frame', '1.9', '19', '3.0M', '1,000+', 'Free', '0', 'Everyone', '', 'February 11, 2018', '1.0.19', '4.0 and up']]\n"
     ]
    }
   ],
   "source": [
    "#Print the row with the suspected error\n",
    "print(android_data[10472:10473])"
   ]
  },
  {
   "cell_type": "markdown",
   "metadata": {},
   "source": [
    "This row does have an error. The category, or type of app, is missing. As a result all data has been shifted left. This makes this row unuseable for this analysis and we will delete the row."
   ]
  },
  {
   "cell_type": "code",
   "execution_count": 7,
   "metadata": {
    "collapsed": true
   },
   "outputs": [],
   "source": [
    "del android_data[10472]"
   ]
  },
  {
   "cell_type": "code",
   "execution_count": 8,
   "metadata": {
    "collapsed": false
   },
   "outputs": [
    {
     "name": "stdout",
     "output_type": "stream",
     "text": [
      "10840\n"
     ]
    }
   ],
   "source": [
    "#Print the length of the dataset to ensure the row has been deleted.\n",
    "print(len(android_data))"
   ]
  },
  {
   "cell_type": "markdown",
   "metadata": {
    "collapsed": true
   },
   "source": [
    "Upon review of the Google Play Store app data, it is evident that some apps are included in the dataset multiple times. For example, Facebook is included twice as demonstrated below."
   ]
  },
  {
   "cell_type": "code",
   "execution_count": 7,
   "metadata": {
    "collapsed": false
   },
   "outputs": [
    {
     "name": "stdout",
     "output_type": "stream",
     "text": [
      "['Facebook', 'SOCIAL', '4.1', '78158306', 'Varies with device', '1,000,000,000+', 'Free', '0', 'Teen', 'Social', 'August 3, 2018', 'Varies with device', 'Varies with device']\n",
      "['Facebook', 'SOCIAL', '4.1', '78128208', 'Varies with device', '1,000,000,000+', 'Free', '0', 'Teen', 'Social', 'August 3, 2018', 'Varies with device', 'Varies with device']\n"
     ]
    }
   ],
   "source": [
    "for app in android_data:\n",
    "    name = app[0]\n",
    "    if name == 'Facebook':\n",
    "        print(app)"
   ]
  },
  {
   "cell_type": "markdown",
   "metadata": {},
   "source": [
    "Upon review of the Facebook duplicates, all entries are the same with the exception of the number of reviews. In the next cell, we will examine how many duplications exist in the dataset and then we will remove duplications."
   ]
  },
  {
   "cell_type": "code",
   "execution_count": 9,
   "metadata": {
    "collapsed": false
   },
   "outputs": [
    {
     "name": "stdout",
     "output_type": "stream",
     "text": [
      "Number of duplicate app entries: 1181\n"
     ]
    }
   ],
   "source": [
    "duplicate_apps = []\n",
    "unique_apps = []\n",
    "for app in android_data:\n",
    "    name = app[0]\n",
    "    if name in unique_apps:\n",
    "        duplicate_apps.append(name)\n",
    "    else:\n",
    "        unique_apps.append(name)\n",
    "        \n",
    "print('Number of duplicate app entries:', len(duplicate_apps))"
   ]
  },
  {
   "cell_type": "markdown",
   "metadata": {},
   "source": [
    "As we see above, there are 1181 duplications in the Google Play Store apps data and duplications can skew analyzes we might wish to run on these datasets. As such, we will have to remove duplicates, but cannot do so randomly. In order to systematically remove duplications, we will utilize the number of reviews received to determine with entry to keep, selecting the entry with the greatest number of reviews. This is a reasonable criterion given that it is most likely that the higher number of reviews includes all previous reviews."
   ]
  },
  {
   "cell_type": "code",
   "execution_count": 11,
   "metadata": {
    "collapsed": false
   },
   "outputs": [
    {
     "name": "stdout",
     "output_type": "stream",
     "text": [
      "Expected length: 9659\n",
      "Actual length: 9659\n"
     ]
    }
   ],
   "source": [
    "#Creating a dictionary of app names and the corresponding highest number of reviews.\n",
    "\n",
    "#Create an empty dictionary:\n",
    "reviews_max = {}\n",
    "\n",
    "#Loop through the Android dataset converting the number of reviews (index 3) to a float \n",
    "#and placing the app name in the dictionary, if not already there. If the app name is \n",
    "#already in the dictionary, the number or revies associated with the app name will be updated\n",
    "#in the dictionary, if it is greater than the number already present.\n",
    "\n",
    "for app in android_data:\n",
    "    name = app[0]\n",
    "    n_reviews = float(app[3])\n",
    "    if name in reviews_max and reviews_max[name] < n_reviews:\n",
    "        reviews_max[name] = n_reviews\n",
    "    elif name not in reviews_max:\n",
    "        reviews_max[name] = n_reviews\n",
    "        \n",
    "#Examine the length of the created dictionary against what is expected, given the number of \n",
    "#duplicate apps in the dataset\n",
    "\n",
    "print('Expected length:', len(android_data) - 1181)\n",
    "print('Actual length:', len(reviews_max))"
   ]
  },
  {
   "cell_type": "code",
   "execution_count": 12,
   "metadata": {
    "collapsed": false
   },
   "outputs": [
    {
     "name": "stdout",
     "output_type": "stream",
     "text": [
      "['Photo Editor & Candy Camera & Grid & ScrapBook', 'ART_AND_DESIGN', '4.1', '159', '19M', '10,000+', 'Free', '0', 'Everyone', 'Art & Design', 'January 7, 2018', '1.0.0', '4.0.3 and up']\n",
      "\n",
      "\n",
      "['U Launcher Lite – FREE Live Cool Themes, Hide Apps', 'ART_AND_DESIGN', '4.7', '87510', '8.7M', '5,000,000+', 'Free', '0', 'Everyone', 'Art & Design', 'August 1, 2018', '1.2.4', '4.0.3 and up']\n",
      "\n",
      "\n",
      "['Sketch - Draw & Paint', 'ART_AND_DESIGN', '4.5', '215644', '25M', '50,000,000+', 'Free', '0', 'Teen', 'Art & Design', 'June 8, 2018', 'Varies with device', '4.2 and up']\n",
      "\n",
      "\n",
      "Number of rows: 9659\n",
      "Number of columns: 13\n"
     ]
    }
   ],
   "source": [
    "#Use the reviews_max dictionary created above to remove duplicate rows\n",
    "\n",
    "#Create two empty lists. One for the dataset without duplicates (android_clean) and the \n",
    "#other for app names\n",
    "\n",
    "android_clean = []\n",
    "already_added = []\n",
    "\n",
    "#Loop through the Android dataset and add apps to the android_clean list if the app name\n",
    "#is not already in the already_added list and the number of reviews is equal to the \n",
    "#number of reviews in the reviews_max dictionary\n",
    "\n",
    "for app in android_data:\n",
    "    name = app[0]\n",
    "    n_reviews = float(app[3])\n",
    "    if n_reviews == reviews_max[name] and name not in already_added:\n",
    "        android_clean.append(app)\n",
    "        already_added.append(name)\n",
    "\n",
    "#Review the new dataset\n",
    "explore_data(android_clean, 0, 3, True)"
   ]
  },
  {
   "cell_type": "markdown",
   "metadata": {},
   "source": [
    "In these next couple of cells, we will create a function to identify non-English characters in order to isolate only English language apps in the two datasets"
   ]
  },
  {
   "cell_type": "code",
   "execution_count": 14,
   "metadata": {
    "collapsed": false
   },
   "outputs": [
    {
     "name": "stdout",
     "output_type": "stream",
     "text": [
      "True\n",
      "False\n",
      "True\n",
      "True\n"
     ]
    }
   ],
   "source": [
    "#Create a function, is_english, to identify non-English characters by using ascii numbers\n",
    "#and returning false if more than 3 characters in the string have an ascii number greater than 127\n",
    "\n",
    "def is_english(string):\n",
    "    non_ascii = 0\n",
    "    for character in string:\n",
    "        if ord(character) > 127:\n",
    "            non_ascii += 1\n",
    "    \n",
    "    if non_ascii > 3:\n",
    "        return False\n",
    "    else:\n",
    "        return True\n",
    "\n",
    "#Test the function to ensure it works as intended\n",
    "\n",
    "print(is_english('Instagram'))\n",
    "print(is_english('爱奇艺PPS -《欢乐颂2》电视剧热播')) \n",
    "print(is_english('Docs To Go™ Free Office Suite'))\n",
    "print(is_english('Instachat 😜'))"
   ]
  },
  {
   "cell_type": "code",
   "execution_count": 16,
   "metadata": {
    "collapsed": false
   },
   "outputs": [
    {
     "name": "stdout",
     "output_type": "stream",
     "text": [
      "['Photo Editor & Candy Camera & Grid & ScrapBook', 'ART_AND_DESIGN', '4.1', '159', '19M', '10,000+', 'Free', '0', 'Everyone', 'Art & Design', 'January 7, 2018', '1.0.0', '4.0.3 and up']\n",
      "\n",
      "\n",
      "['U Launcher Lite – FREE Live Cool Themes, Hide Apps', 'ART_AND_DESIGN', '4.7', '87510', '8.7M', '5,000,000+', 'Free', '0', 'Everyone', 'Art & Design', 'August 1, 2018', '1.2.4', '4.0.3 and up']\n",
      "\n",
      "\n",
      "['Sketch - Draw & Paint', 'ART_AND_DESIGN', '4.5', '215644', '25M', '50,000,000+', 'Free', '0', 'Teen', 'Art & Design', 'June 8, 2018', 'Varies with device', '4.2 and up']\n",
      "\n",
      "\n",
      "Number of rows: 9614\n",
      "Number of columns: 13\n",
      "\n",
      "\n",
      "['284882215', 'Facebook', '389879808', 'USD', '0.0', '2974676', '212', '3.5', '3.5', '95.0', '4+', 'Social Networking', '37', '1', '29', '1']\n",
      "\n",
      "\n",
      "['389801252', 'Instagram', '113954816', 'USD', '0.0', '2161558', '1289', '4.5', '4.0', '10.23', '12+', 'Photo & Video', '37', '0', '29', '1']\n",
      "\n",
      "\n",
      "['529479190', 'Clash of Clans', '116476928', 'USD', '0.0', '2130805', '579', '4.5', '4.5', '9.24.12', '9+', 'Games', '38', '5', '18', '1']\n",
      "\n",
      "\n",
      "Number of rows: 6183\n",
      "Number of columns: 16\n"
     ]
    }
   ],
   "source": [
    "#Loop through each dataset to remove non-English language apps using the is_english function created above\n",
    "english_ios_data = []\n",
    "english_android_data = []\n",
    "\n",
    "for app in android_clean:\n",
    "    name = app[0]\n",
    "    if is_english(name):\n",
    "        english_android_data.append(app)\n",
    "    \n",
    "for app in ios_data:\n",
    "    name = app[1]\n",
    "    if is_english(name):\n",
    "        english_ios_data.append(app)\n",
    "    \n",
    "explore_data(english_android_data, 0, 3, True)\n",
    "print('\\n')\n",
    "explore_data(english_ios_data, 0, 3, True)"
   ]
  },
  {
   "cell_type": "code",
   "execution_count": 17,
   "metadata": {
    "collapsed": false
   },
   "outputs": [
    {
     "name": "stdout",
     "output_type": "stream",
     "text": [
      "['Photo Editor & Candy Camera & Grid & ScrapBook', 'ART_AND_DESIGN', '4.1', '159', '19M', '10,000+', 'Free', '0', 'Everyone', 'Art & Design', 'January 7, 2018', '1.0.0', '4.0.3 and up']\n",
      "\n",
      "\n",
      "['U Launcher Lite – FREE Live Cool Themes, Hide Apps', 'ART_AND_DESIGN', '4.7', '87510', '8.7M', '5,000,000+', 'Free', '0', 'Everyone', 'Art & Design', 'August 1, 2018', '1.2.4', '4.0.3 and up']\n",
      "\n",
      "\n",
      "['Sketch - Draw & Paint', 'ART_AND_DESIGN', '4.5', '215644', '25M', '50,000,000+', 'Free', '0', 'Teen', 'Art & Design', 'June 8, 2018', 'Varies with device', '4.2 and up']\n",
      "\n",
      "\n",
      "Number of rows: 8864\n",
      "Number of columns: 13\n",
      "\n",
      "\n",
      "['284882215', 'Facebook', '389879808', 'USD', '0.0', '2974676', '212', '3.5', '3.5', '95.0', '4+', 'Social Networking', '37', '1', '29', '1']\n",
      "\n",
      "\n",
      "['389801252', 'Instagram', '113954816', 'USD', '0.0', '2161558', '1289', '4.5', '4.0', '10.23', '12+', 'Photo & Video', '37', '0', '29', '1']\n",
      "\n",
      "\n",
      "['529479190', 'Clash of Clans', '116476928', 'USD', '0.0', '2130805', '579', '4.5', '4.5', '9.24.12', '9+', 'Games', '38', '5', '18', '1']\n",
      "\n",
      "\n",
      "Number of rows: 3222\n",
      "Number of columns: 16\n"
     ]
    }
   ],
   "source": [
    "#Loop through the two datasets to create the final datasets with only free apps included \n",
    "ios_final = []\n",
    "android_final = []\n",
    "\n",
    "for app in english_android_data:\n",
    "    price = app[7]\n",
    "    if price == '0':\n",
    "        android_final.append(app)\n",
    "    \n",
    "for app in english_ios_data:\n",
    "    price = app[4]\n",
    "    if price == '0.0':\n",
    "        ios_final.append(app)\n",
    "    \n",
    "explore_data(android_final, 0, 3, True)\n",
    "print('\\n')\n",
    "explore_data(ios_final, 0, 3, True)"
   ]
  },
  {
   "cell_type": "markdown",
   "metadata": {},
   "source": [
    "### 3. Data Analysis\n",
    "\n",
    "In this section, we will analyze the data to acheive the end goal of identifying apps likely to attract the most users on both Android & iOS platforms.\n",
    "\n",
    "Our company builds free apps that appeal to a wide range of mobile users and we earn our revenue through in-app ads. We use a step-wise process to building an app, starting with a minimal Android version on Google Play. Based on user response, we either continue to develop the app or drop it. If the app is profitable after 6 months on Goggle Play, we build an iOS version for the Apple Store. \n",
    "\n",
    "We seek to build apps that are successful on both Google Play and the Apple Store. In order to identify future app possibilities, we will be using the Android and iOS datasets to identify genres of apps that are successful on both platforms."
   ]
  },
  {
   "cell_type": "code",
   "execution_count": 19,
   "metadata": {
    "collapsed": false
   },
   "outputs": [
    {
     "name": "stdout",
     "output_type": "stream",
     "text": [
      "['App', 'Category', 'Rating', 'Reviews', 'Size', 'Installs', 'Type', 'Price', 'Content Rating', 'Genres', 'Last Updated', 'Current Ver', 'Android Ver']\n",
      "\n",
      "\n",
      "['id', 'track_name', 'size_bytes', 'currency', 'price', 'rating_count_tot', 'rating_count_ver', 'user_rating', 'user_rating_ver', 'ver', 'cont_rating', 'prime_genre', 'sup_devices.num', 'ipadSc_urls.num', 'lang.num', 'vpp_lic']\n"
     ]
    }
   ],
   "source": [
    "#Print the dataset columns to identify columns to use for generating frequency tables\n",
    "print(android_header)\n",
    "print('\\n')\n",
    "print(ios_header)"
   ]
  },
  {
   "cell_type": "markdown",
   "metadata": {},
   "source": [
    "#### Part 1: Identifying the genres with the most apps on both iOS & Android"
   ]
  },
  {
   "cell_type": "code",
   "execution_count": 20,
   "metadata": {
    "collapsed": false
   },
   "outputs": [],
   "source": [
    "#Create a function to return a frequency table with percetages for any column we select\n",
    "\n",
    "def freq_table(dataset, index):\n",
    "    table = {}\n",
    "    total = 0\n",
    "    for row in dataset:\n",
    "        total += 1\n",
    "        value = row[index]\n",
    "        if value in table:\n",
    "            table[value] += 1\n",
    "        else:\n",
    "            table[value] = 1\n",
    "    \n",
    "    table_perc = {}\n",
    "    for key in table:\n",
    "        percentage = (table[key]/total)*100\n",
    "        table_perc[key] = percentage\n",
    "    \n",
    "    return table_perc\n",
    "\n",
    "#Define the display_table function \n",
    "def display_table(dataset, index):\n",
    "    table = freq_table(dataset, index)\n",
    "    table_display = []\n",
    "    for key in table:\n",
    "        key_val_as_tuple = (table[key], key)\n",
    "        table_display.append(key_val_as_tuple)\n",
    "\n",
    "    table_sorted = sorted(table_display, reverse = True)\n",
    "    for entry in table_sorted:\n",
    "        print(entry[1], ':', entry[0])"
   ]
  },
  {
   "cell_type": "code",
   "execution_count": 21,
   "metadata": {
    "collapsed": false
   },
   "outputs": [
    {
     "name": "stdout",
     "output_type": "stream",
     "text": [
      "Games : 58.16263190564867\n",
      "Entertainment : 7.883302296710118\n",
      "Photo & Video : 4.9658597144630665\n",
      "Education : 3.662321539416512\n",
      "Social Networking : 3.2898820608317814\n",
      "Shopping : 2.60707635009311\n",
      "Utilities : 2.5139664804469275\n",
      "Sports : 2.1415270018621975\n",
      "Music : 2.0484171322160147\n",
      "Health & Fitness : 2.0173805090006205\n",
      "Productivity : 1.7380509000620732\n",
      "Lifestyle : 1.5828677839851024\n",
      "News : 1.3345747982619491\n",
      "Travel : 1.2414649286157666\n",
      "Finance : 1.1173184357541899\n",
      "Weather : 0.8690254500310366\n",
      "Food & Drink : 0.8069522036002483\n",
      "Reference : 0.5586592178770949\n",
      "Business : 0.5276225946617008\n",
      "Book : 0.4345127250155183\n",
      "Navigation : 0.186219739292365\n",
      "Medical : 0.186219739292365\n",
      "Catalogs : 0.12414649286157665\n"
     ]
    }
   ],
   "source": [
    "#Return the frequency table for the prime_genre column of the iOS dataset\n",
    "display_table(ios_final, -5)"
   ]
  },
  {
   "cell_type": "code",
   "execution_count": 22,
   "metadata": {
    "collapsed": false
   },
   "outputs": [
    {
     "name": "stdout",
     "output_type": "stream",
     "text": [
      "FAMILY : 18.907942238267147\n",
      "GAME : 9.724729241877256\n",
      "TOOLS : 8.461191335740072\n",
      "BUSINESS : 4.591606498194946\n",
      "LIFESTYLE : 3.9034296028880866\n",
      "PRODUCTIVITY : 3.892148014440433\n",
      "FINANCE : 3.7003610108303246\n",
      "MEDICAL : 3.531137184115524\n",
      "SPORTS : 3.395758122743682\n",
      "PERSONALIZATION : 3.3167870036101084\n",
      "COMMUNICATION : 3.2378158844765346\n",
      "HEALTH_AND_FITNESS : 3.0798736462093865\n",
      "PHOTOGRAPHY : 2.944494584837545\n",
      "NEWS_AND_MAGAZINES : 2.7978339350180503\n",
      "SOCIAL : 2.6624548736462095\n",
      "TRAVEL_AND_LOCAL : 2.33528880866426\n",
      "SHOPPING : 2.2450361010830324\n",
      "BOOKS_AND_REFERENCE : 2.1435018050541514\n",
      "DATING : 1.861462093862816\n",
      "VIDEO_PLAYERS : 1.7937725631768955\n",
      "MAPS_AND_NAVIGATION : 1.3989169675090252\n",
      "FOOD_AND_DRINK : 1.2409747292418771\n",
      "EDUCATION : 1.1620036101083033\n",
      "ENTERTAINMENT : 0.9589350180505415\n",
      "LIBRARIES_AND_DEMO : 0.9363718411552346\n",
      "AUTO_AND_VEHICLES : 0.9250902527075812\n",
      "HOUSE_AND_HOME : 0.8235559566787004\n",
      "WEATHER : 0.8009927797833934\n",
      "EVENTS : 0.7107400722021661\n",
      "PARENTING : 0.6543321299638989\n",
      "ART_AND_DESIGN : 0.6430505415162455\n",
      "COMICS : 0.6204873646209386\n",
      "BEAUTY : 0.5979241877256317\n"
     ]
    }
   ],
   "source": [
    "#Return the frequency table for the category column of the Android dataset\n",
    "display_table(android_final, 1)"
   ]
  },
  {
   "cell_type": "code",
   "execution_count": 23,
   "metadata": {
    "collapsed": false
   },
   "outputs": [
    {
     "name": "stdout",
     "output_type": "stream",
     "text": [
      "Tools : 8.449909747292418\n",
      "Entertainment : 6.069494584837545\n",
      "Education : 5.347472924187725\n",
      "Business : 4.591606498194946\n",
      "Productivity : 3.892148014440433\n",
      "Lifestyle : 3.892148014440433\n",
      "Finance : 3.7003610108303246\n",
      "Medical : 3.531137184115524\n",
      "Sports : 3.463447653429603\n",
      "Personalization : 3.3167870036101084\n",
      "Communication : 3.2378158844765346\n",
      "Action : 3.1024368231046933\n",
      "Health & Fitness : 3.0798736462093865\n",
      "Photography : 2.944494584837545\n",
      "News & Magazines : 2.7978339350180503\n",
      "Social : 2.6624548736462095\n",
      "Travel & Local : 2.3240072202166067\n",
      "Shopping : 2.2450361010830324\n",
      "Books & Reference : 2.1435018050541514\n",
      "Simulation : 2.0419675090252705\n",
      "Dating : 1.861462093862816\n",
      "Arcade : 1.8501805054151623\n",
      "Video Players & Editors : 1.7712093862815883\n",
      "Casual : 1.7599277978339352\n",
      "Maps & Navigation : 1.3989169675090252\n",
      "Food & Drink : 1.2409747292418771\n",
      "Puzzle : 1.128158844765343\n",
      "Racing : 0.9927797833935018\n",
      "Role Playing : 0.9363718411552346\n",
      "Libraries & Demo : 0.9363718411552346\n",
      "Auto & Vehicles : 0.9250902527075812\n",
      "Strategy : 0.9138086642599278\n",
      "House & Home : 0.8235559566787004\n",
      "Weather : 0.8009927797833934\n",
      "Events : 0.7107400722021661\n",
      "Adventure : 0.6768953068592057\n",
      "Comics : 0.6092057761732852\n",
      "Beauty : 0.5979241877256317\n",
      "Art & Design : 0.5979241877256317\n",
      "Parenting : 0.4963898916967509\n",
      "Card : 0.45126353790613716\n",
      "Casino : 0.42870036101083037\n",
      "Trivia : 0.41741877256317694\n",
      "Educational;Education : 0.39485559566787\n",
      "Board : 0.3835740072202166\n",
      "Educational : 0.3722924187725632\n",
      "Education;Education : 0.33844765342960287\n",
      "Word : 0.2594765342960289\n",
      "Casual;Pretend Play : 0.236913357400722\n",
      "Music : 0.2030685920577617\n",
      "Racing;Action & Adventure : 0.16922382671480143\n",
      "Puzzle;Brain Games : 0.16922382671480143\n",
      "Entertainment;Music & Video : 0.16922382671480143\n",
      "Casual;Brain Games : 0.13537906137184114\n",
      "Casual;Action & Adventure : 0.13537906137184114\n",
      "Arcade;Action & Adventure : 0.12409747292418773\n",
      "Action;Action & Adventure : 0.10153429602888085\n",
      "Educational;Pretend Play : 0.09025270758122744\n",
      "Simulation;Action & Adventure : 0.078971119133574\n",
      "Parenting;Education : 0.078971119133574\n",
      "Entertainment;Brain Games : 0.078971119133574\n",
      "Board;Brain Games : 0.078971119133574\n",
      "Parenting;Music & Video : 0.06768953068592057\n",
      "Educational;Brain Games : 0.06768953068592057\n",
      "Casual;Creativity : 0.06768953068592057\n",
      "Art & Design;Creativity : 0.06768953068592057\n",
      "Education;Pretend Play : 0.056407942238267145\n",
      "Role Playing;Pretend Play : 0.04512635379061372\n",
      "Education;Creativity : 0.04512635379061372\n",
      "Role Playing;Action & Adventure : 0.033844765342960284\n",
      "Puzzle;Action & Adventure : 0.033844765342960284\n",
      "Entertainment;Creativity : 0.033844765342960284\n",
      "Entertainment;Action & Adventure : 0.033844765342960284\n",
      "Educational;Creativity : 0.033844765342960284\n",
      "Educational;Action & Adventure : 0.033844765342960284\n",
      "Education;Music & Video : 0.033844765342960284\n",
      "Education;Brain Games : 0.033844765342960284\n",
      "Education;Action & Adventure : 0.033844765342960284\n",
      "Adventure;Action & Adventure : 0.033844765342960284\n",
      "Video Players & Editors;Music & Video : 0.02256317689530686\n",
      "Sports;Action & Adventure : 0.02256317689530686\n",
      "Simulation;Pretend Play : 0.02256317689530686\n",
      "Puzzle;Creativity : 0.02256317689530686\n",
      "Music;Music & Video : 0.02256317689530686\n",
      "Entertainment;Pretend Play : 0.02256317689530686\n",
      "Casual;Education : 0.02256317689530686\n",
      "Board;Action & Adventure : 0.02256317689530686\n",
      "Video Players & Editors;Creativity : 0.01128158844765343\n",
      "Trivia;Education : 0.01128158844765343\n",
      "Travel & Local;Action & Adventure : 0.01128158844765343\n",
      "Tools;Education : 0.01128158844765343\n",
      "Strategy;Education : 0.01128158844765343\n",
      "Strategy;Creativity : 0.01128158844765343\n",
      "Strategy;Action & Adventure : 0.01128158844765343\n",
      "Simulation;Education : 0.01128158844765343\n",
      "Role Playing;Brain Games : 0.01128158844765343\n",
      "Racing;Pretend Play : 0.01128158844765343\n",
      "Puzzle;Education : 0.01128158844765343\n",
      "Parenting;Brain Games : 0.01128158844765343\n",
      "Music & Audio;Music & Video : 0.01128158844765343\n",
      "Lifestyle;Pretend Play : 0.01128158844765343\n",
      "Lifestyle;Education : 0.01128158844765343\n",
      "Health & Fitness;Education : 0.01128158844765343\n",
      "Health & Fitness;Action & Adventure : 0.01128158844765343\n",
      "Entertainment;Education : 0.01128158844765343\n",
      "Communication;Creativity : 0.01128158844765343\n",
      "Comics;Creativity : 0.01128158844765343\n",
      "Casual;Music & Video : 0.01128158844765343\n",
      "Card;Action & Adventure : 0.01128158844765343\n",
      "Books & Reference;Education : 0.01128158844765343\n",
      "Art & Design;Pretend Play : 0.01128158844765343\n",
      "Art & Design;Action & Adventure : 0.01128158844765343\n",
      "Arcade;Pretend Play : 0.01128158844765343\n",
      "Adventure;Education : 0.01128158844765343\n"
     ]
    }
   ],
   "source": [
    "#Return the frequency table for the genres column of the Android dataset\n",
    "display_table(android_final, -4)"
   ]
  },
  {
   "cell_type": "markdown",
   "metadata": {
    "collapsed": true
   },
   "source": [
    "##### Analyzing the frequency tables \n",
    "\n",
    "***iOS Genre Frequency:***\n",
    "The game genre comprises 58% of the free English iOS, which far exceeds the frequency of any other genre. The next most common genre is entertainment apps, which comprise 7.9% of all free English apps. Amongst the top ten genres, six are intended for entertainment purposes and comprise a total of 78.4% of all free English apps. The other 4 apps in the top 10 - education, shopping, utilities, and health & fitness – make up 10.8% of the free English apps. \n",
    "\n",
    "Based on this data alone, free English entertainment apps are more common than other types of apps and games are significant more common than any other type of app. However, this data speaks only to the frequency of these types of apps on the iOS platform and does not indicate the number of users or how popular the apps are. Thus, this data suggests that we should further explore entertainment apps, but we must first understand if frequency correlates with usage or popularity. It would be unwise to recommend an app profile for development based solely on this data; further analysis is necessary to better understand user preferences.\n",
    "\n",
    "***Android Genre Frequency:***\n",
    "The tools genre (8.45%) and the family category (18.91%) are the more common among the Android free English apps. While the top 10 categories and genres largely overlap in the free English Android dataset, there is some variability, likely due to the definition of categories versus genres. In order to mirror the iOS discussion, we will consider the Android genres. Unlike the iOS app frequencies, there is not one genre that rises far above others within the free English Android apps. The top genre is tools followed by a mix of both entertainment and practical apps. Only 2 of the top 10 apps in the Android dataset are entertainment apps – entertainment & sports – and they comprise 9.5% of all free English apps. The remaining 8 apps in the top 10 are oriented towards lifestyle, business, finance, and productivity. These apps make up 36.8% of the free English Android apps. \n",
    "\n",
    "Like the iOS dataset, these numbers reflect the frequency of the genre within the free English apps and not the popularity or reach of the apps. Thus, we can conclude that the frequency of different types of apps varies from the App Store to Google Play. From the frequency data, free English iOS apps appear to be largely for entertainment purposes, while free English Android apps appear to have more balance between entertainment and practical apps. However, we cannot identify which free English apps are the most used or most popular. Further analysis will be needed to make a recommendation for an app to develop. "
   ]
  },
  {
   "cell_type": "markdown",
   "metadata": {
    "collapsed": true
   },
   "source": [
    "#### Part 2: Identifying the genres that are the most popular on both iOS & Android\n",
    "\n",
    "The fastest way to identify the apps that are most popular would be to identify the average number of installs by genre. However, install data is only available in the Android data. In order to analyze the iOS dataset, we will utilize number of ratings as a proxy for installs."
   ]
  },
  {
   "cell_type": "code",
   "execution_count": 24,
   "metadata": {
    "collapsed": false
   },
   "outputs": [
    {
     "name": "stdout",
     "output_type": "stream",
     "text": [
      "Music : 57326.530303030304\n",
      "Health & Fitness : 23298.015384615384\n",
      "Social Networking : 71548.34905660378\n",
      "Shopping : 26919.690476190477\n",
      "Games : 22788.6696905016\n",
      "Productivity : 21028.410714285714\n",
      "Catalogs : 4004.0\n",
      "Utilities : 18684.456790123455\n",
      "Book : 39758.5\n",
      "Travel : 28243.8\n",
      "Education : 7003.983050847458\n",
      "Sports : 23008.898550724636\n",
      "Navigation : 86090.33333333333\n",
      "Finance : 31467.944444444445\n",
      "Medical : 612.0\n",
      "Reference : 74942.11111111111\n",
      "Weather : 52279.892857142855\n",
      "Business : 7491.117647058823\n",
      "Lifestyle : 16485.764705882353\n",
      "Entertainment : 14029.830708661417\n",
      "Food & Drink : 33333.92307692308\n",
      "Photo & Video : 28441.54375\n",
      "News : 21248.023255813954\n"
     ]
    }
   ],
   "source": [
    "#Using the freq_table function created previously, we'll generate a frequency table of the \n",
    "#prime_genres in the iOS dataset and then we'll loop through the dataset to determine the \n",
    "#average number of user ratings for each genre.\n",
    "\n",
    "genres_ios = freq_table(ios_final, -5)\n",
    "\n",
    "for genre in genres_ios:\n",
    "    total = 0\n",
    "    len_genre = 0\n",
    "    for app in ios_final:\n",
    "        genre_app = app[-5]\n",
    "        if genre_app == genre:            \n",
    "            n_ratings = float(app[5])\n",
    "            total += n_ratings\n",
    "            len_genre += 1\n",
    "    avg_n_ratings = total / len_genre\n",
    "    print(genre, ':', avg_n_ratings)"
   ]
  },
  {
   "cell_type": "markdown",
   "metadata": {},
   "source": [
    "***Analyzing the iOS apps based on average user ratings:***\n",
    "The type of popular genres in the Apple Store, based on average number of user ratings, is a very different picture than the frequency of genre types. The most popular free English apps by average number of user ratings is balanced between entertainment and practical apps. The most popular is navigation apps, followed by reference, and then social networking.\n",
    "\n",
    "Based on the frequency of app genres in both datasets and the popularity of app generes in the Apple Store, we would recommend building a free finance app. Free English finance apps are in the top 10 for frequency on Google Play and are in the top 10 most popular on the Apple Store. However, they are also infrequent (1.1% of free English apps) on the Apple Store, indicating that there is room in the market for another app. "
   ]
  },
  {
   "cell_type": "markdown",
   "metadata": {},
   "source": [
    "Now we will move on to analyzing the Android dataset."
   ]
  },
  {
   "cell_type": "code",
   "execution_count": 28,
   "metadata": {
    "collapsed": false
   },
   "outputs": [
    {
     "name": "stdout",
     "output_type": "stream",
     "text": [
      "BEAUTY : 513151.88679245283\n",
      "SOCIAL : 23253652.127118643\n",
      "COMICS : 817657.2727272727\n",
      "PARENTING : 542603.6206896552\n",
      "HOUSE_AND_HOME : 1331540.5616438356\n",
      "HEALTH_AND_FITNESS : 4188821.9853479853\n",
      "PERSONALIZATION : 5201482.6122448975\n",
      "MAPS_AND_NAVIGATION : 4056941.7741935486\n",
      "PHOTOGRAPHY : 17840110.40229885\n",
      "TOOLS : 10801391.298666667\n",
      "DATING : 854028.8303030303\n",
      "NEWS_AND_MAGAZINES : 9549178.467741935\n",
      "SPORTS : 3638640.1428571427\n",
      "PRODUCTIVITY : 16787331.344927534\n",
      "AUTO_AND_VEHICLES : 647317.8170731707\n",
      "VIDEO_PLAYERS : 24727872.452830188\n",
      "LIFESTYLE : 1437816.2687861272\n",
      "FAMILY : 3695641.8198090694\n",
      "TRAVEL_AND_LOCAL : 13984077.710144928\n",
      "EVENTS : 253542.22222222222\n",
      "LIBRARIES_AND_DEMO : 638503.734939759\n",
      "MEDICAL : 120550.61980830671\n",
      "ART_AND_DESIGN : 1986335.0877192982\n",
      "EDUCATION : 1833495.145631068\n",
      "BUSINESS : 1712290.1474201474\n",
      "ENTERTAINMENT : 11640705.88235294\n",
      "COMMUNICATION : 38456119.167247385\n",
      "BOOKS_AND_REFERENCE : 8767811.894736841\n",
      "WEATHER : 5074486.197183099\n",
      "GAME : 15588015.603248259\n",
      "FINANCE : 1387692.475609756\n",
      "SHOPPING : 7036877.311557789\n",
      "FOOD_AND_DRINK : 1924897.7363636363\n"
     ]
    }
   ],
   "source": [
    "#We will replicate the code from the iOS frequency table above. Using the freq_table \n",
    "#function created previously, we'll generate a frequency table of the categories in \n",
    "#the Android dataset and then we'll loop through the dataset to remove string characters, convert \n",
    "#number of installs to floats, and determine the average number of installs for each genre.\n",
    "\n",
    "categories_android = freq_table(android_final, 1)\n",
    "\n",
    "for category in categories_android:\n",
    "    total = 0\n",
    "    len_category = 0\n",
    "    for app in android_final:\n",
    "        category_app = app[1]\n",
    "        if category_app == category:            \n",
    "            n_installs = app[5]\n",
    "            n_installs = n_installs.replace(',', '')\n",
    "            n_installs = n_installs.replace('+', '')\n",
    "            total += float(n_installs)\n",
    "            len_category += 1\n",
    "    avg_n_installs = total / len_category\n",
    "    print(category, ':', avg_n_installs)"
   ]
  },
  {
   "cell_type": "markdown",
   "metadata": {},
   "source": [
    "***Analyzing Android free English apps by average number of installs:***\n",
    "Using the average number of installs among free English Android apps, we find a simialr pattern to the frequency of genres in the Android dataset. The 10 most frequently installed categories of free English apps is fairly balanced between entertainment and practical, with a slight bias towards entertainment apps.\n",
    "\n",
    "Given that the goal here is to identify a genre of apps to build that will be popular on both Google Play and the Apple Store, we now have to look at the app genres that are popular on both platforms. The genres that overlap both top 10 lists include social/social networking, photo/video, and travel. However, apps in the books, reference, magazines, and finance genres are also popluar on both platforms. Before deciding on the genre to pursue, we're going to examine some of these categories in more depth."
   ]
  },
  {
   "cell_type": "markdown",
   "metadata": {},
   "source": [
    "#### Part 3: Within Genre Analysis\n",
    "\n",
    "In this section, we're going to look at the apps within some of the most popular genres on both the iOS and Android platforms."
   ]
  },
  {
   "cell_type": "code",
   "execution_count": 29,
   "metadata": {
    "collapsed": false
   },
   "outputs": [
    {
     "name": "stdout",
     "output_type": "stream",
     "text": [
      "Facebook : 2974676\n",
      "Pinterest : 1061624\n",
      "Skype for iPhone : 373519\n",
      "Messenger : 351466\n",
      "Tumblr : 334293\n",
      "WhatsApp Messenger : 287589\n",
      "Kik : 260965\n",
      "ooVoo – Free Video Call, Text and Voice : 177501\n",
      "TextNow - Unlimited Text + Calls : 164963\n",
      "Viber Messenger – Text & Call : 164249\n",
      "Followers - Social Analytics For Instagram : 112778\n",
      "MeetMe - Chat and Meet New People : 97072\n",
      "We Heart It - Fashion, wallpapers, quotes, tattoos : 90414\n",
      "InsTrack for Instagram - Analytics Plus More : 85535\n",
      "Tango - Free Video Call, Voice and Chat : 75412\n",
      "LinkedIn : 71856\n",
      "Match™ - #1 Dating App. : 60659\n",
      "Skype for iPad : 60163\n",
      "POF - Best Dating App for Conversations : 52642\n",
      "Timehop : 49510\n",
      "Find My Family, Friends & iPhone - Life360 Locator : 43877\n",
      "Whisper - Share, Express, Meet : 39819\n",
      "Hangouts : 36404\n",
      "LINE PLAY - Your Avatar World : 34677\n",
      "WeChat : 34584\n",
      "Badoo - Meet New People, Chat, Socialize. : 34428\n",
      "Followers + for Instagram - Follower Analytics : 28633\n",
      "GroupMe : 28260\n",
      "Marco Polo Video Walkie Talkie : 27662\n",
      "Miitomo : 23965\n",
      "SimSimi : 23530\n",
      "Grindr - Gay and same sex guys chat, meet and date : 23201\n",
      "Wishbone - Compare Anything : 20649\n",
      "imo video calls and chat : 18841\n",
      "After School - Funny Anonymous School News : 18482\n",
      "Quick Reposter - Repost, Regram and Reshare Photos : 17694\n",
      "Weibo HD : 16772\n",
      "Repost for Instagram : 15185\n",
      "Live.me – Live Video Chat & Make Friends Nearby : 14724\n",
      "Nextdoor : 14402\n",
      "Followers Analytics for Instagram - InstaReport : 13914\n",
      "YouNow: Live Stream Video Chat : 12079\n",
      "FollowMeter for Instagram - Followers Tracking : 11976\n",
      "LINE : 11437\n",
      "eHarmony™ Dating App - Meet Singles : 11124\n",
      "Discord - Chat for Gamers : 9152\n",
      "QQ : 9109\n",
      "Telegram Messenger : 7573\n",
      "Weibo : 7265\n",
      "Periscope - Live Video Streaming Around the World : 6062\n",
      "Chat for Whatsapp - iPad Version : 5060\n",
      "QQ HD : 5058\n",
      "Followers Analysis Tool For Instagram App Free : 4253\n",
      "live.ly - live video streaming : 4145\n",
      "Houseparty - Group Video Chat : 3991\n",
      "SOMA Messenger : 3232\n",
      "Monkey : 3060\n",
      "Down To Lunch : 2535\n",
      "Flinch - Video Chat Staring Contest : 2134\n",
      "Highrise - Your Avatar Community : 2011\n",
      "LOVOO - Dating Chat : 1985\n",
      "PlayStation®Messages : 1918\n",
      "BOO! - Video chat camera with filters & stickers : 1805\n",
      "Qzone : 1649\n",
      "Chatous - Chat with new people : 1609\n",
      "Kiwi - Q&A : 1538\n",
      "GhostCodes - a discovery app for Snapchat : 1313\n",
      "Jodel : 1193\n",
      "FireChat : 1037\n",
      "Google Duo - simple video calling : 1033\n",
      "Fiesta by Tango - Chat & Meet New People : 885\n",
      "Google Allo — smart messaging : 862\n",
      "Peach — share vividly : 727\n",
      "Hey! VINA - Where Women Meet New Friends : 719\n",
      "Battlefield™ Companion : 689\n",
      "All Devices for WhatsApp - Messenger for iPad : 682\n",
      "Chat for Pokemon Go - GoChat : 500\n",
      "IAmNaughty – Dating App to Meet New People Online : 463\n",
      "Qzone HD : 458\n",
      "Zenly - Locate your friends in realtime : 427\n",
      "League of Legends Friends : 420\n",
      "豆瓣 : 407\n",
      "Candid - Speak Your Mind Freely : 398\n",
      "知乎 : 397\n",
      "Selfeo : 366\n",
      "Fake-A-Location Free ™ : 354\n",
      "Popcorn Buzz - Free Group Calls : 281\n",
      "Fam — Group video calling for iMessage : 279\n",
      "QQ International : 274\n",
      "Ameba : 269\n",
      "SoundCloud Pulse: for creators : 240\n",
      "Tantan : 235\n",
      "Cougar Dating & Life Style App for Mature Women : 213\n",
      "Rawr Messenger - Dab your chat : 180\n",
      "WhenToPost: Best Time to Post Photos for Instagram : 158\n",
      "Inke—Broadcast an amazing life : 147\n",
      "Mustknow - anonymous video Q&A : 53\n",
      "CTFxCmoji : 39\n",
      "Lobi : 36\n",
      "Chain: Collaborate On MyVideo Story/Group Video : 35\n",
      "botman - Real time video chat : 7\n",
      "BestieBox : 0\n",
      "MATCH ON LINE chat : 0\n",
      "niconico ch : 0\n",
      "LINE BLOG : 0\n",
      "bit-tube - Live Stream Video Chat : 0\n",
      "\n",
      "\n",
      "Facebook : 1,000,000,000+\n",
      "Facebook Lite : 500,000,000+\n",
      "Tumblr : 100,000,000+\n",
      "Pinterest : 100,000,000+\n",
      "Google+ : 1,000,000,000+\n",
      "Badoo - Free Chat & Dating App : 100,000,000+\n",
      "Tango - Live Video Broadcast : 100,000,000+\n",
      "Instagram : 1,000,000,000+\n",
      "Snapchat : 500,000,000+\n",
      "LinkedIn : 100,000,000+\n",
      "Tik Tok - including musical.ly : 100,000,000+\n",
      "BIGO LIVE - Live Stream : 100,000,000+\n",
      "VK : 100,000,000+\n"
     ]
    }
   ],
   "source": [
    "#Examine the apps in the social genres on both platforms\n",
    "\n",
    "for app in ios_final:\n",
    "    if app[-5] == 'Social Networking':\n",
    "        print(app[1], ':', app[5])\n",
    "        \n",
    "print('\\n')\n",
    "\n",
    "for app in android_final:\n",
    "    if app[1] == 'SOCIAL' and (app[5] == '1,000,000,000+'\n",
    "                                      or app[5] == '500,000,000+'\n",
    "                                      or app[5] == '100,000,000+'):\n",
    "        print(app[0], ':', app[5])"
   ]
  },
  {
   "cell_type": "markdown",
   "metadata": {},
   "source": [
    "Based on the apps in the social genres, it appears that this genre is heavily dominated by a handful of the big social platforms, including Facebook, Pinterest, LinkedIn, Tumblr, etc. Given that the popularity of this genre is heavily skewed by a handful of major social platforms, it does not appear that this a viable genre to recommend. First, it may only be popular as a result of the most common apps and these apps are heavily used and may be difficult to compete with. "
   ]
  },
  {
   "cell_type": "code",
   "execution_count": 30,
   "metadata": {
    "collapsed": false
   },
   "outputs": [
    {
     "name": "stdout",
     "output_type": "stream",
     "text": [
      "Instagram : 2161558\n",
      "Snapchat : 323905\n",
      "YouTube - Watch Videos, Music, and Live Streams : 278166\n",
      "Pic Collage - Picture Editor & Photo Collage Maker : 123433\n",
      "Funimate video editor: add cool effects to videos : 123268\n",
      "musical.ly - your video social network : 105429\n",
      "Photo Collage Maker & Photo Editor - Live Collage : 93781\n",
      "Vine Camera : 90355\n",
      "Google Photos - unlimited photo and video storage : 88742\n",
      "Flipagram : 79905\n",
      "Mixgram - Picture Collage Maker - Pic Photo Editor : 54282\n",
      "Shutterfly: Prints, Photo Books, Cards Made Easy : 51427\n",
      "Pic Jointer – Photo Collage, Camera Effects Editor : 51330\n",
      "Color Pop Effects - Photo Editor & Picture Editing : 45320\n",
      "Photo Grid - photo collage maker & photo editor : 40531\n",
      "iSwap Faces LITE : 39722\n",
      "MOLDIV - Photo Editor, Collage & Beauty Camera : 39501\n",
      "Photo Editor by Aviary : 39501\n",
      "Photo Lab: Picture Editor, effects & fun face app : 34585\n",
      "Rookie Cam - Photo Editor & Filter Camera : 33921\n",
      "FotoRus -Camera & Photo Editor & Pic Collage Maker : 32558\n",
      "PicsArt Photo Studio: Collage Maker & Pic Editor : 29078\n",
      "Quik – GoPro Video Editor to edit clips with music : 28654\n",
      "Splice - Video Editor + Movie Maker by GoPro : 28189\n",
      "FreePrints – Photos Delivered : 26060\n",
      "Triller - Music Video & Film Maker : 25683\n",
      "Ghost Lens+Scary Photo Video Edit&Collage Maker : 18316\n",
      "Camera360 - Selfie Filter Camera, Photo Editor : 16729\n",
      "InstaMag - Free Pic and Photo Collage Maker : 16221\n",
      "Over— Edit Photos, Add Text & Captions to Pictures : 16221\n",
      "Photo Transfer App - Easy backup of photos+videos : 15654\n",
      "InstaSize: Photo Editor, Picture Effects & Collage : 15605\n",
      "Prisma: Photo Editor, Art Filters Pic Effects : 15060\n",
      "Filterra – Photo Editor, Effects for Pictures : 14744\n",
      "YouCam Makeup: Magic Makeup Selfie Cam : 14188\n",
      "MSQRD — Live Filters & Face Swap for Video Selfies : 12982\n",
      "Artisto – Video and Photo Editor with Art Filters : 12963\n",
      "InShot Video Editor Music, No Crop, Cut : 12779\n",
      "Layout from Instagram : 12616\n",
      "Face Swap App- Funny Face Changer Photo Effects : 11977\n",
      "Moments - private albums with friends and family : 11955\n",
      "VSCO : 11174\n",
      "Retrica - Selfie Camera with Filter, Sticker & GIF : 11021\n",
      "VivaVideo - Best Video Editor & Photo Movie Maker : 10618\n",
      "Prime Photos from Amazon : 10511\n",
      "Canva - Graphic Design & Photo Editing : 9114\n",
      "Photo Editor- : 9095\n",
      "Snapseed : 8683\n",
      "You Doodle - draw on photos & pictures, add text : 8520\n",
      "PIP Camera-Selfie Cam&Pic Collage&Photo Editor : 8454\n",
      "BeautyPlus - Selfie Camera for a Beautiful Image : 7503\n",
      "Baby Story - Pregnancy Pics Baby Milestones Photo : 6700\n",
      "Capture - Control Your GoPro Camera - Share Video : 6542\n",
      "Meitu : 6478\n",
      "Visage makeup editor plus photo teeth whitener : 5767\n",
      "Video & TV Cast for Chromecast: Best Browser to cast and stream webvideos and local videos on TV & Displays : 5676\n",
      "Adobe Photoshop Mix - Cut out, combine, create : 5253\n",
      "Collageable - Photo Collage Maker, Pic Grid Free : 5112\n",
      "Bazaart Photo Editor Pro and Picture Collage Maker : 4909\n",
      "InstaBeauty -Camera&Photo Editor&Pic Collage Maker : 4818\n",
      "YouCam Perfect - Photo & Selfie Editor : 4293\n",
      "PHHHOTO - Look Alive : 4280\n",
      "MuseCam - Edit Photos & Manual Camera : 4267\n",
      "VR Tube - Virtual Reality 360 Video Player : 4142\n",
      "Fyuse - 3D Photos : 4126\n",
      "MakeupPlus - Natural, Professional Makeup Looks : 3987\n",
      "LINE Camera - Photo editor, Animated Stamp, Filter : 3978\n",
      "Printicular Print Photos - 1 Hour Pickup : 3909\n",
      "Lumyer - augmented reality camera effects : 3896\n",
      "KODAK Kiosk Connect App : 3711\n",
      "Cool Wallpapers for Pokemon : 3694\n",
      "Pro Editor - Video Maker for FaceBook & Youtube : 3668\n",
      "Lomotif Music Video Editor - Add Music & Effects! : 3507\n",
      "Epson iPrint : 2838\n",
      "YouCam Fun - Live Selfie Video Filters : 2522\n",
      "A Color Story : 2436\n",
      "Boomerang from Instagram : 2373\n",
      "B612 - Trendy Filters, Selfiegenic Camera : 2275\n",
      "Polarr Photo Editor - Photo Editing Tools for All : 2246\n",
      "Retouch Vogue - Facetune Wrinkles & Pimples Makeup : 2235\n",
      "Kanvas - Express Yourself : 2177\n",
      "Easy Save - Repost your Instagram Photos & Videos : 2159\n",
      "Meitu HD : 2150\n",
      "Pixlr - Photo Collages, Effects, Overlays, Filters : 2099\n",
      "Patternator Pattern Maker Backgrounds & Wallpapers : 2092\n",
      "BeautyCam - AR Carnie selfie : 2082\n",
      "GIPHY. The GIF Search Engine for All the GIFs : 2069\n",
      "Adobe Photoshop Lightroom for iPad : 2005\n",
      "SuperPhoto - Photo Effects & Filters : 1952\n",
      "Solo Selfie : 1799\n",
      "Felt: Birthday & Greeting Cards & Thank You Card : 1724\n",
      "Perfect Image - Pic Collage Maker, Add Text to Photo, Cool Picture Editor : 1646\n",
      "InstaBoard  for Instagram - photos & videos repost : 1571\n",
      "Adobe Photoshop Lightroom for iPhone : 1494\n",
      "PhotoScan - scanner by Google Photos : 1421\n",
      "RealTimes: Video Maker : 1274\n",
      "Meipai : 1190\n",
      "POTO - Photo Collage Maker : 1149\n",
      "SNOW - Selfie, Motion sticker, Fun camera : 1115\n",
      "Bestie-Beauty Camera 360 & Portrait Selfie Editor : 1035\n",
      "Facetune 2 : 1009\n",
      "Pitu : 968\n",
      "intoLive - Custom Live Photos wallpaper maker : 938\n",
      "LOL Movie: Change your face + voice! : 849\n",
      "Camcorder - Record VHS Home Videos : 830\n",
      "Anime Power FX : 807\n",
      "Squaready for Video - Convert Rectangle Movie Clip into Square Shape for Instagram : 778\n",
      "Canon PRINT Inkjet/SELPHY : 689\n",
      "Microsoft Pix Camera : 678\n",
      "Kwai - Share your video moments : 668\n",
      "Polaroid Print App - ZIP : 631\n",
      "Photo Quilt - Auto Collage Maker : 599\n",
      "Cymera - Photo & Beauty Editor & Collage : 523\n",
      "FACIE : 514\n",
      "Photo Editing Effects & Collage Maker - Effectshop : 422\n",
      "Pic-it Collage - Photo Collage Maker and Editor : 415\n",
      "Candy Camera : 397\n",
      "Microsoft Selfie : 375\n",
      "Color Pop Free - Selective Color Splash Effects and Black & White Photography Editor : 352\n",
      "SelfieCity : 252\n",
      "InstaSave for Instagram - Download & Repost your own Videos & Photos for Free : 243\n",
      "CATCHY Photos-Easter Bunny, Tooth Fairy and more.. : 228\n",
      "SW/NG - Living Photos. Memories that Swing. : 222\n",
      "SlideStory - Create a slideshow movie and a snap video : 220\n",
      "April - Layouts, Photo Collage, and Poster Maker : 165\n",
      "PopCam　Photo : 160\n",
      "Foodie - Delicious Camera for Food : 144\n",
      "FreeVRPlayer : 134\n",
      "Confetti - Geofilter Design Maker for Snapchat : 120\n",
      "Philm-Video&Photo Editor,REAL-TIME Magic Filter : 103\n",
      "Digital Domain : 102\n",
      "Homido 360 VR player : 100\n",
      "Best 9 for Instagram : 88\n",
      "VR Video World - Virtual Reality : 88\n",
      "FilmStory - For All Your Video Editing Needs : 66\n",
      "GIFYme - Create video loops and gifs with amazing filters for Whatsapp and Instagram : 65\n",
      "Kiosk Photo Transfer by Fujifilm : 58\n",
      "Pikazo – AI art that YOU control : 56\n",
      "lollicam - photo, video, and selfie camera : 51\n",
      "LOOKS - Real Makeup Camera : 25\n",
      "C CHANNEL -Watch tips & tricks videos for girls : 21\n",
      "in-capturing moments in life : 16\n",
      "Everfilter - transform your photos into artworks : 15\n",
      "GoSnaps - Share Screenshots for Pokémon GO : 12\n",
      "NightShooting : 9\n",
      "MixChannel : 6\n",
      "Simple Camera - Fast Minimal Design : 3\n",
      "SwapperFace - Face Swap Free, Live Mask Effects : 2\n",
      "LINE Moments - Capture Your Fun Moments : 1\n",
      "Video speed editor - VBooster : 1\n",
      "Video Smith - A Powerful video editing tool set : 1\n",
      "MeiCam -  Video Production Master : 0\n",
      "Instant X - Take instant-camera-like photo with double exposure and bulb mode : 0\n",
      "EOPAN : 0\n",
      "StageCameraHD : 0\n",
      "Pictalive for Live Photos - Create from videos : 0\n",
      "BlurEffect-Blur Photo & Video, Hide Face : 0\n",
      "camera for filter : 0\n",
      "Emojil - original emoji stamp, decoration camera : 0\n",
      "CelebrityDiagnosis! : 0\n",
      "\n",
      "\n",
      "B612 - Beauty & Filter Camera : 100,000,000+\n",
      "YouCam Makeup - Magic Selfie Makeovers : 100,000,000+\n",
      "Sweet Selfie - selfie camera, beauty cam, photo edit : 100,000,000+\n",
      "Google Photos : 1,000,000,000+\n",
      "Retrica : 100,000,000+\n",
      "Photo Editor Pro : 100,000,000+\n",
      "BeautyPlus - Easy Photo Editor & Selfie Camera : 100,000,000+\n",
      "PicsArt Photo Studio: Collage Maker & Pic Editor : 100,000,000+\n",
      "Photo Collage Editor : 100,000,000+\n",
      "Z Camera - Photo Editor, Beauty Selfie, Collage : 100,000,000+\n",
      "PhotoGrid: Video & Pic Collage Maker, Photo Editor : 100,000,000+\n",
      "Candy Camera - selfie, beauty camera, photo editor : 100,000,000+\n",
      "YouCam Perfect - Selfie Photo Editor : 100,000,000+\n",
      "Camera360: Selfie Photo Editor with Funny Sticker : 100,000,000+\n",
      "S Photo Editor - Collage Maker , Photo Collage : 100,000,000+\n",
      "AR effect : 100,000,000+\n",
      "Cymera Camera- Photo Editor, Filter,Collage,Layout : 100,000,000+\n",
      "LINE Camera - Photo editor : 100,000,000+\n",
      "Photo Editor Collage Maker Pro : 100,000,000+\n"
     ]
    }
   ],
   "source": [
    "#Examine the apps in the photo and video genres on both platforms\n",
    "\n",
    "for app in ios_final:\n",
    "    if app[-5] == 'Photo & Video':\n",
    "        print(app[1], ':', app[5])\n",
    "        \n",
    "print('\\n')\n",
    "\n",
    "for app in android_final:\n",
    "    if app[1] == 'PHOTOGRAPHY' and (app[5] == '1,000,000,000+'\n",
    "                                      or app[5] == '500,000,000+'\n",
    "                                      or app[5] == '100,000,000+'):\n",
    "        print(app[0], ':', app[5])"
   ]
  },
  {
   "cell_type": "markdown",
   "metadata": {},
   "source": [
    "Within the photo and video genres, Instragram, Snapchat, and YouTube dominate the Apple Store. After those apps, the remaining apps in the Apple Store and the photo apps on Google Play are all various picture modification or picture sharing apps. This is a ganre that may be worth exploring for our company."
   ]
  },
  {
   "cell_type": "code",
   "execution_count": 31,
   "metadata": {
    "collapsed": false
   },
   "outputs": [
    {
     "name": "stdout",
     "output_type": "stream",
     "text": [
      "Google Earth : 446185\n",
      "Yelp - Nearby Restaurants, Shopping & Services : 223885\n",
      "GasBuddy : 145549\n",
      "TripAdvisor Hotels Flights Restaurants : 56194\n",
      "Uber : 49466\n",
      "Lyft : 46922\n",
      "HotelTonight - Great Deals on Last Minute Hotels : 32341\n",
      "Hotels & Vacation Rentals by Booking.com : 31261\n",
      "Southwest Airlines : 30552\n",
      "Airbnb : 22302\n",
      "Expedia Hotels, Flights & Vacation Package Deals : 10278\n",
      "Fly Delta : 8094\n",
      "Hopper - Predict, Watch & Book Flights : 6944\n",
      "United Airlines : 5748\n",
      "Skiplagged — Actually Cheap Flights & Hotels : 1851\n",
      "Viator Tours & Activities : 1839\n",
      "iExit Interstate Exit Guide : 1798\n",
      "Gogo Entertainment : 1482\n",
      "Google Street View : 1450\n",
      "Webcams – EarthCam : 912\n",
      "HISTORY Here : 685\n",
      "DB Navigator : 512\n",
      "Mobike - Dockless Bike Share : 494\n",
      "MiFlight™ – Airport security line wait times at checkpoints for domestic and international travelers : 493\n",
      "BlaBlaCar - Trusted Carpooling : 397\n",
      "Six Flags : 353\n",
      "Google Trips – Travel planner : 329\n",
      "Voyages-sncf.com : book train and bus tickets : 268\n",
      "Trainline UK: Live Train Times, Tickets & Planner : 248\n",
      "Urlaubspiraten : 188\n",
      "铁路12306 : 177\n",
      "Ryanair - Cheapest Fares : 175\n",
      "飞猪 : 154\n",
      "Fleet Air Travel Guide & Airport Directory : 105\n",
      "FlixBus - bus travel in Europe : 92\n",
      "Ab in den Urlaub – Pauschalreisen günstig buchen : 22\n",
      "SNCF : 7\n",
      "skyticket - Reserve Best Valued Air Tickets : 0\n",
      "Fluege.de - Finde den billigsten Flug : 0\n",
      "VoiceTra(Voice Translator) : 0\n",
      "\n",
      "\n",
      "Booking.com Travel Deals : 100,000,000+\n",
      "TripAdvisor Hotels Flights Restaurants Attractions : 100,000,000+\n",
      "Maps - Navigate & Explore : 1,000,000,000+\n",
      "Google Street View : 1,000,000,000+\n",
      "Google Earth : 100,000,000+\n"
     ]
    }
   ],
   "source": [
    "#Examine the apps in the photo and video genres on both platforms\n",
    "\n",
    "for app in ios_final:\n",
    "    if app[-5] == 'Travel':\n",
    "        print(app[1], ':', app[5])\n",
    "        \n",
    "print('\\n')\n",
    "\n",
    "for app in android_final:\n",
    "    if app[1] == 'TRAVEL_AND_LOCAL' and (app[5] == '1,000,000,000+'\n",
    "                                      or app[5] == '500,000,000+'\n",
    "                                      or app[5] == '100,000,000+'):\n",
    "        print(app[0], ':', app[5])"
   ]
  },
  {
   "cell_type": "markdown",
   "metadata": {},
   "source": [
    "Like the social apps, the travel genres are dominated by major players, including Google, Uber, Lyft, TripAdvisor, etc. While a unique approach to travel could be a worthwhile app to pursue, it would be challenging to break into this genre."
   ]
  },
  {
   "cell_type": "code",
   "execution_count": 32,
   "metadata": {
    "collapsed": false
   },
   "outputs": [
    {
     "name": "stdout",
     "output_type": "stream",
     "text": [
      "Chase Mobile℠ : 233270\n",
      "Mint: Personal Finance, Budget, Bills & Money : 232940\n",
      "Bank of America - Mobile Banking : 119773\n",
      "PayPal - Send and request money safely : 119487\n",
      "Credit Karma: Free Credit Scores, Reports & Alerts : 101679\n",
      "Capital One Mobile : 56110\n",
      "Citi Mobile® : 48822\n",
      "Wells Fargo Mobile : 43064\n",
      "Chase Mobile : 34322\n",
      "Square Cash - Send Money for Free : 23775\n",
      "Capital One for iPad : 21858\n",
      "Venmo : 21090\n",
      "USAA Mobile : 19946\n",
      "TaxCaster – Free tax refund calculator : 17516\n",
      "Amex Mobile : 11421\n",
      "TurboTax Tax Return App - File 2016 income taxes : 9635\n",
      "Bank of America - Mobile Banking for iPad : 7569\n",
      "Wells Fargo for iPad : 2207\n",
      "Stash Invest: Investing & Financial Education : 1655\n",
      "Digit: Save Money Without Thinking About It : 1506\n",
      "IRS2Go : 1329\n",
      "Capital One CreditWise - Credit score and report : 1019\n",
      "U by BB&T : 790\n",
      "Paribus - Rebates When Prices Drop : 768\n",
      "KeyBank Mobile : 623\n",
      "VyStar Mobile Banking for iPhone : 434\n",
      "Sparkasse - Your mobile branch : 77\n",
      "VyStar Mobile Banking for iPad : 57\n",
      "Zaim : 44\n",
      "Ma Banque : 17\n",
      "Lloyds Bank Mobile Banking : 17\n",
      "Suica : 10\n",
      "Halifax Mobile Banking : 8\n",
      "La Banque Postale : 8\n",
      "币优铺 : 0\n",
      "Impots.gouv : 0\n",
      "\n",
      "\n",
      "Google Pay : 100,000,000+\n"
     ]
    }
   ],
   "source": [
    "#Examine the apps in the photo and video genres on both platforms\n",
    "\n",
    "for app in ios_final:\n",
    "    if app[-5] == 'Finance':\n",
    "        print(app[1], ':', app[5])\n",
    "        \n",
    "print('\\n')\n",
    "\n",
    "for app in android_final:\n",
    "    if app[1] == 'FINANCE' and (app[5] == '1,000,000,000+'\n",
    "                                      or app[5] == '500,000,000+'\n",
    "                                      or app[5] == '100,000,000+'):\n",
    "        print(app[0], ':', app[5])"
   ]
  },
  {
   "cell_type": "markdown",
   "metadata": {},
   "source": [
    "Within the finance genres, Google Pay is the only dominate app on the Android platform. While on iOS, there are a multitude of apps, but none are clear dominant apps like we see in the social genres. Given this, we recommend building an app in the finance genre. These are common apps on both platforms and rank high on popularity. While Google Pay "
   ]
  }
 ],
 "metadata": {
  "kernelspec": {
   "display_name": "Python 3",
   "language": "python",
   "name": "python3"
  },
  "language_info": {
   "codemirror_mode": {
    "name": "ipython",
    "version": 3
   },
   "file_extension": ".py",
   "mimetype": "text/x-python",
   "name": "python",
   "nbconvert_exporter": "python",
   "pygments_lexer": "ipython3",
   "version": "3.4.3"
  }
 },
 "nbformat": 4,
 "nbformat_minor": 2
}
